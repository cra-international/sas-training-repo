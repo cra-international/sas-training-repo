{
 "cells": [
  {
   "cell_type": "markdown",
   "id": "0339eb13",
   "metadata": {},
   "source": [
    "### Step 0: Setup SAS"
   ]
  },
  {
   "cell_type": "code",
   "execution_count": 1,
   "id": "72606c22",
   "metadata": {},
   "outputs": [
    {
     "name": "stdout",
     "output_type": "stream",
     "text": [
      "C:\\Program Files (x86)\\Common Files\\Oracle\\Java\\javapath\\java.exe\n",
      "C:\\ProgramData\\Oracle\\Java\\javapath\\java.exe\n"
     ]
    }
   ],
   "source": [
    "!where java"
   ]
  },
  {
   "cell_type": "code",
   "execution_count": 4,
   "id": "6abe36ef",
   "metadata": {},
   "outputs": [],
   "source": [
    "config_file_data = \"\"\"\n",
    "SAS_config_names=['oda']\n",
    "oda = {'java' : 'C:\\\\Program Files (x86)\\\\Common Files\\\\Oracle\\\\Java\\\\javapath\\\\java.exe',\n",
    "#US Home Region 1\n",
    "'iomhost' : ['odaws01-usw2.oda.sas.com','odaws02-usw2.oda.sas.com','odaws03-usw2.oda.sas.com','odaws04-usw2.oda.sas.com'],\n",
    "#US Home Region 2\n",
    "#'iomhost' : ['odaws01-usw2-2.oda.sas.com','odaws02-usw2-2.oda.sas.com'],\n",
    "#European Home Region 1\n",
    "#'iomhost' : ['odaws01-euw1.oda.sas.com','odaws02-euw1.oda.sas.com'],\n",
    "#Asia Pacific Home Region 1\n",
    "#'iomhost' : ['odaws01-apse1.oda.sas.com','odaws02-apse1.oda.sas.com'],\n",
    "#Asia Pacific Home Region 2\n",
    "#'iomhost' : ['odaws01-apse1-2.oda.sas.com','odaws02-apse1-2.oda.sas.com'],\n",
    "'iomport' : 8591,\n",
    "'authkey' : 'oda',\n",
    "'encoding' : 'utf-8'\n",
    "}\n",
    "\"\"\""
   ]
  },
  {
   "cell_type": "code",
   "execution_count": 5,
   "id": "97db1337",
   "metadata": {},
   "outputs": [
    {
     "name": "stdout",
     "output_type": "stream",
     "text": [
      "C:\\Users\\cwilson\\AppData\\Local\\Continuum\\anaconda3\\lib\\site-packages\\saspy\\sascfg_personal.py\n"
     ]
    }
   ],
   "source": [
    "import saspy, os\n",
    "sas_config_path = saspy.__file__.replace('__init__.py', 'sascfg_personal.py')\n",
    "print(sas_config_path)"
   ]
  },
  {
   "cell_type": "code",
   "execution_count": 6,
   "id": "09c9d60d",
   "metadata": {},
   "outputs": [],
   "source": [
    "#Write config file\n",
    "with open(sas_config_path, \"w\") as cfile:\n",
    "    cfile.write(config_file_data)"
   ]
  },
  {
   "cell_type": "code",
   "execution_count": null,
   "id": "caaf11b0",
   "metadata": {},
   "outputs": [],
   "source": []
  }
 ],
 "metadata": {
  "kernelspec": {
   "display_name": "Python 3",
   "language": "python",
   "name": "python3"
  },
  "language_info": {
   "codemirror_mode": {
    "name": "ipython",
    "version": 3
   },
   "file_extension": ".py",
   "mimetype": "text/x-python",
   "name": "python",
   "nbconvert_exporter": "python",
   "pygments_lexer": "ipython3",
   "version": "3.9.7"
  }
 },
 "nbformat": 4,
 "nbformat_minor": 5
}
