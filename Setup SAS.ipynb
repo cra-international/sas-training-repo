{
 "cells": [
  {
   "cell_type": "markdown",
   "id": "a3a874cd",
   "metadata": {},
   "source": [
    "### Step 0: Setup SAS"
   ]
  },
  {
   "cell_type": "code",
   "execution_count": 9,
   "id": "98fb517d",
   "metadata": {},
   "outputs": [
    {
     "name": "stderr",
     "output_type": "stream",
     "text": [
      "'apt-get' is not recognized as an internal or external command,\n",
      "operable program or batch file.\n"
     ]
    }
   ],
   "source": [
    "import jdk\n",
    "jdk.install('11', jre=True)"
   ]
  },
  {
   "cell_type": "code",
   "execution_count": null,
   "id": "95cdc834",
   "metadata": {},
   "outputs": [],
   "source": [
    "import saspy, os, pandas"
   ]
  },
  {
   "cell_type": "code",
   "execution_count": 4,
   "id": "360dc74d",
   "metadata": {},
   "outputs": [],
   "source": [
    "config_file_data = \"\"\"\n",
    "SAS_config_names=['oda']\n",
    "oda = {'java' : '/home/jovyan/.jre/jdk-11.0.15+10-jre/bin/java',\n",
    "'iomhost' : ['odaws01-usw2.oda.sas.com','odaws02-usw2.oda.sas.com','odaws03-usw2.oda.sas.com','odaws04-usw2.oda.sas.com'],\n",
    "'iomport' : 8591,\n",
    "'authkey' : 'oda',\n",
    "'encoding' : 'utf-8'\n",
    "}\n",
    "\"\"\""
   ]
  },
  {
   "cell_type": "code",
   "execution_count": 7,
   "id": "80098bf3",
   "metadata": {},
   "outputs": [
    {
     "name": "stdout",
     "output_type": "stream",
     "text": [
      "C:\\Users\\cwilson\\AppData\\Local\\Continuum\\anaconda3\\lib\\site-packages\\saspy\\sascfg_personal.py\n"
     ]
    }
   ],
   "source": [
    "import saspy, os\n",
    "sas_config_path = saspy.__file__.replace('__init__.py', 'sascfg_personal.py')\n",
    "print(sas_config_path)"
   ]
  },
  {
   "cell_type": "code",
   "execution_count": 6,
   "id": "3113b5ed",
   "metadata": {},
   "outputs": [],
   "source": [
    "#Write config file\n",
    "with open(sas_config_path, \"w\") as cfile:\n",
    "    cfile.write(config_file_data)"
   ]
  },
  {
   "cell_type": "code",
   "execution_count": null,
   "id": "173e594f",
   "metadata": {},
   "outputs": [],
   "source": [
    "sas = saspy.SASsession(cfgname='oda')"
   ]
  }
 ],
 "metadata": {
  "kernelspec": {
   "display_name": "Python 3",
   "language": "python",
   "name": "python3"
  },
  "language_info": {
   "codemirror_mode": {
    "name": "ipython",
    "version": 3
   },
   "file_extension": ".py",
   "mimetype": "text/x-python",
   "name": "python",
   "nbconvert_exporter": "python",
   "pygments_lexer": "ipython3",
   "version": "3.9.7"
  }
 },
 "nbformat": 4,
 "nbformat_minor": 5
}
