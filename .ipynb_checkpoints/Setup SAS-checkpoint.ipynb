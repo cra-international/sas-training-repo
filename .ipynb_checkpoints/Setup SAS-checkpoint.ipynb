{
 "cells": [
  {
   "cell_type": "markdown",
   "id": "a3a874cd",
   "metadata": {},
   "source": [
    "### Step 0: Setup SAS"
   ]
  },
  {
   "cell_type": "code",
   "execution_count": null,
   "id": "98fb517d",
   "metadata": {},
   "outputs": [],
   "source": [
    "import jdk\n",
    "jdk.install('11', jre=True)"
   ]
  },
  {
   "cell_type": "code",
   "execution_count": null,
   "id": "95cdc834",
   "metadata": {},
   "outputs": [],
   "source": [
    "import saspy, os, pandas"
   ]
  },
  {
   "cell_type": "code",
   "execution_count": 4,
   "id": "360dc74d",
   "metadata": {},
   "outputs": [],
   "source": [
    "config_file_data = \"\"\"\n",
    "SAS_config_names=['oda']\n",
    "oda = {'java' : '/home/jovyan/.jre/jdk-11.0.15+10-jre/bin/java',\n",
    "'iomhost' : ['odaws01-euw1.oda.sas.com','odaws02-euw1.oda.sas.com'],\n",
    "'iomport' : 8591,\n",
    "'encoding' : 'utf-8'\n",
    "}\n",
    "\"\"\""
   ]
  },
  {
   "cell_type": "code",
   "execution_count": null,
   "id": "80098bf3",
   "metadata": {},
   "outputs": [],
   "source": [
    "import saspy, os\n",
    "sas_config_path = saspy.__file__.replace('__init__.py', 'sascfg_personal.py')\n",
    "print(sas_config_path)"
   ]
  },
  {
   "cell_type": "code",
   "execution_count": 6,
   "id": "3113b5ed",
   "metadata": {},
   "outputs": [],
   "source": [
    "#Write config file\n",
    "with open(sas_config_path, \"w\") as cfile:\n",
    "    cfile.write(config_file_data)"
   ]
  },
  {
   "cell_type": "code",
   "execution_count": null,
   "id": "173e594f",
   "metadata": {},
   "outputs": [],
   "source": [
    "sas = saspy.SASsession(cfgname='oda')"
   ]
  }
 ],
 "metadata": {
  "kernelspec": {
   "display_name": "Python 3",
   "language": "python",
   "name": "python3"
  },
  "language_info": {
   "codemirror_mode": {
    "name": "ipython",
    "version": 3
   },
   "file_extension": ".py",
   "mimetype": "text/x-python",
   "name": "python",
   "nbconvert_exporter": "python",
   "pygments_lexer": "ipython3",
   "version": "3.9.7"
  }
 },
 "nbformat": 4,
 "nbformat_minor": 5
}
